{
 "cells": [
  {
   "cell_type": "markdown",
   "metadata": {},
   "source": [
    "## Simple scripts to compute the results and compare the models"
   ]
  },
  {
   "cell_type": "code",
   "execution_count": null,
   "metadata": {},
   "outputs": [],
   "source": [
    "%load_ext autoreload\n",
    "%autoreload 2\n",
    "%reload_ext autoreload\n",
    "\n",
    "from src.dataset import CustomDataset\n",
    "from src.utils import ROOT_DIR\n",
    "from src.models import Lava\n",
    "from torch.utils.data import DataLoader\n",
    "import os\n",
    "import torch\n",
    "import time\n",
    "from torchvision import transforms\n",
    "import json\n",
    "import sys"
   ]
  },
  {
   "cell_type": "markdown",
   "metadata": {},
   "source": [
    "# Lava model image only"
   ]
  },
  {
   "cell_type": "code",
   "execution_count": null,
   "metadata": {},
   "outputs": [],
   "source": [
    "path_lava_image=os.path.join(ROOT_DIR,'data', 'results', 'Lava0S_prediction_on_test.json')\n",
    "with open(path_lava_image, 'r') as f:\n",
    "    prediction_image=json.load(f)"
   ]
  },
  {
   "cell_type": "code",
   "execution_count": null,
   "metadata": {},
   "outputs": [],
   "source": [
    "result_parsed={}\n",
    "for key, value in prediction_image.items():\n",
    "    result_parsed[key]={}\n",
    "    generation=value.split('\\nASSISTANT: ')\n",
    "    if generation[1][-1:]!='}':\n",
    "          generation[1]=\"\".join([generation[1], '}'])\n",
    "    if generation[1][-2:]!='\"}':\n",
    "        generation[1]=\"\".join([generation[1], '\"}'])\n",
    "    try:\n",
    "        result_parsed[key]=json.loads(generation[1])   \n",
    "    except json.JSONDecodeError as e:\n",
    "        print(\"JSON decoding error:\", key, e)\n",
    "    except Exception as e:\n",
    "        print(\"An unexpected error occurred:\",key, e)\n",
    "        continue\n",
    "result_path=os.path.join(ROOT_DIR, \"data\", \"results\", \"Lava0S_prediction_on_test_reformated.json\")\n",
    "with open(result_path, \"w\") as f:\n",
    "        json.dump(result_parsed, f) "
   ]
  },
  {
   "cell_type": "code",
   "execution_count": null,
   "metadata": {},
   "outputs": [],
   "source": [
    "#Check the classification label\n",
    "i=0\n",
    "for key, value in result_parsed.items():\n",
    "    if (value['Classification']=='hateful')| (value['Classification']=='not hateful'):\n",
    "        i+=1\n",
    "print('Amount of data point without clear label', len(result_parsed)-i)"
   ]
  },
  {
   "cell_type": "code",
   "execution_count": null,
   "metadata": {},
   "outputs": [],
   "source": [
    "#Convert to the final output\n",
    "result_final={}\n",
    "for key, value in result_parsed.items():\n",
    "    if (value['Classification']=='hateful')| (value['Classification']=='not hateful'):\n",
    "        result_final[key]=value['Classification']\n",
    "result_path=os.path.join(ROOT_DIR, \"data\", \"results\", \"Lava0S_prediction_on_test_final.json\")\n",
    "with open(result_path, \"w\") as f:\n",
    "        json.dump(result_final, f)  "
   ]
  },
  {
   "cell_type": "code",
   "execution_count": null,
   "metadata": {},
   "outputs": [],
   "source": [
    "len(result_final)"
   ]
  },
  {
   "cell_type": "markdown",
   "metadata": {},
   "source": [
    "## Lava model image with tweet text"
   ]
  },
  {
   "cell_type": "code",
   "execution_count": null,
   "metadata": {},
   "outputs": [],
   "source": [
    "path_lava_image=os.path.join(ROOT_DIR,'data', 'results', 'Lava0S_tweet_prediction_on_test.json')\n",
    "with open(path_lava_image, 'r') as f:\n",
    "    prediction_image=json.load(f)"
   ]
  },
  {
   "cell_type": "code",
   "execution_count": null,
   "metadata": {},
   "outputs": [],
   "source": [
    "result_parsed={}\n",
    "for key, value in prediction_image.items():\n",
    "    result_parsed[key]={}\n",
    "    generation=value.split('\\nASSISTANT: ')\n",
    "    if generation[1][-1:]!='}':\n",
    "          generation[1]=\"\".join([generation[1], '}'])\n",
    "    if generation[1][-2:]!='\"}':\n",
    "        generation[1]=\"\".join([generation[1], '\"}'])\n",
    "    try:\n",
    "        result_parsed[key]=json.loads(generation[1])   \n",
    "    except json.JSONDecodeError as e:\n",
    "        print(\"JSON decoding error:\", key, e)\n",
    "    except Exception as e:\n",
    "        print(\"An unexpected error occurred:\",key, e)\n",
    "        continue\n",
    "result_path=os.path.join(ROOT_DIR, \"data\", \"results\", \"Lava0S_tweet_prediction_on_test_reformated.json\")\n",
    "with open(result_path, \"w\") as f:\n",
    "        json.dump(result_parsed, f) "
   ]
  },
  {
   "cell_type": "code",
   "execution_count": null,
   "metadata": {},
   "outputs": [],
   "source": [
    "#Check the classification label\n",
    "i=0\n",
    "for key, value in result_parsed.items():\n",
    "    if (value['Classification']=='hateful')| (value['Classification']=='not hateful'):\n",
    "        i+=1\n",
    "print('Amount of data point without clear label', len(result_parsed)-i)"
   ]
  },
  {
   "cell_type": "code",
   "execution_count": null,
   "metadata": {},
   "outputs": [],
   "source": [
    "#Convert to the final output\n",
    "result_final={}\n",
    "for key, value in result_parsed.items():\n",
    "    if (value['Classification']=='hateful') | (value['Classification']=='not hateful'):\n",
    "        result_final[key]=value['Classification']\n",
    "   \n",
    "result_path=os.path.join(ROOT_DIR, \"data\", \"results\", \"Lava0S_tweet_prediction_on_test_final.json\")\n",
    "with open(result_path, \"w\") as f:\n",
    "        json.dump(result_final, f)  "
   ]
  },
  {
   "cell_type": "code",
   "execution_count": null,
   "metadata": {},
   "outputs": [],
   "source": [
    "len(result_final)"
   ]
  },
  {
   "cell_type": "code",
   "execution_count": null,
   "metadata": {},
   "outputs": [],
   "source": []
  }
 ],
 "metadata": {
  "kernelspec": {
   "display_name": "Python 3 (ipykernel)",
   "language": "python",
   "name": "python3"
  },
  "language_info": {
   "codemirror_mode": {
    "name": "ipython",
    "version": 3
   },
   "file_extension": ".py",
   "mimetype": "text/x-python",
   "name": "python",
   "nbconvert_exporter": "python",
   "pygments_lexer": "ipython3",
   "version": "3.12.2"
  }
 },
 "nbformat": 4,
 "nbformat_minor": 4
}
