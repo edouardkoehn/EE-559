{
 "cells": [
  {
   "cell_type": "code",
   "execution_count": null,
   "metadata": {},
   "outputs": [],
   "source": [
    "import pandas as pd\n",
    "from transformers import AutoTokenizer"
   ]
  },
  {
   "cell_type": "code",
   "execution_count": null,
   "metadata": {},
   "outputs": [],
   "source": [
    "#loading dataset\n",
    "tweets = pd.read_csv('../data/MMHS150K/MMHS150K_with_img_text.csv')\n",
    "data = tweets[['tweet_text_clean', 'binary_hate', 'split']]\n",
    "data = data.rename_column(\"binary_hate\", \"labels\")\n",
    "data.head()"
   ]
  },
  {
   "cell_type": "code",
   "execution_count": null,
   "metadata": {},
   "outputs": [],
   "source": [
    "#load model and tokenizer\n",
    "def load_pretrained(model_name):\n",
    "  tokenizer = AutoTokenizer.from_pretrained(model_name)\n",
    "  model = AutoModelForSequenceClassification.from_pretrained(model_name)\n",
    "\n",
    "  if torch.cuda.is_available():\n",
    "    model = model.to('cuda:0')\n",
    "  return tokenizer, model\n",
    "\n",
    "#load bert\n",
    "tokenizer, model = load_pretrained('bert-base-cased')"
   ]
  },
  {
   "cell_type": "code",
   "execution_count": null,
   "metadata": {},
   "outputs": [],
   "source": [
    "def tokenize_function(examples):\n",
    "    return tokenizer(examples[\"tweet_text_clean\"], padding=\"max_length\", truncation=True)\n",
    "\n",
    "tokenized_data = data.map(tokenize_function, batched=True)"
   ]
  },
  {
   "cell_type": "code",
   "execution_count": null,
   "metadata": {},
   "outputs": [],
   "source": [
    "print(tokenized_data)"
   ]
  },
  {
   "cell_type": "code",
   "execution_count": null,
   "metadata": {},
   "outputs": [],
   "source": [
    "print(tokenized_data[[\"split\"]==\"train\"][0][\"tweet_text_clean\"])\n",
    "print(tokenized_data[\"train\"][0][\"labels\"])\n",
    "print(tokenized_data[\"train\"][0][\"input_ids\"])\n",
    "print(tokenized_data[\"train\"][0][\"attention_mask\"])"
   ]
  },
  {
   "cell_type": "code",
   "execution_count": null,
   "metadata": {},
   "outputs": [],
   "source": [
    "# Remove the text column because the model does not accept raw text as an input\n",
    "\n",
    "tokenized_data = tokenized_data.remove_columns([\"tweet_text_clean\"])\n",
    "print(tokenized_data)\n",
    "print(type(tokenized_data), type(tokenized_data[\"train\"][\"labels\"]))"
   ]
  },
  {
   "cell_type": "code",
   "execution_count": null,
   "metadata": {},
   "outputs": [],
   "source": [
    "# Set the format of the dataset to return PyTorch tensors instead of lists\n",
    "\n",
    "\n",
    "tokenized_data.set_format(\"torch\")\n",
    "print(tokenized_data)\n",
    "print(type(tokenized_data), type(tokenized_data[\"train\"][\"labels\"]))"
   ]
  }
 ],
 "metadata": {
  "kernelspec": {
   "display_name": "EE559",
   "language": "python",
   "name": "python3"
  },
  "language_info": {
   "codemirror_mode": {
    "name": "ipython",
    "version": 3
   },
   "file_extension": ".py",
   "mimetype": "text/x-python",
   "name": "python",
   "nbconvert_exporter": "python",
   "pygments_lexer": "ipython3",
   "version": "3.12.2"
  }
 },
 "nbformat": 4,
 "nbformat_minor": 2
}
