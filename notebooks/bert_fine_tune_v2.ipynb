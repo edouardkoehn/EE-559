{
 "cells": [
  {
   "cell_type": "code",
   "execution_count": null,
   "metadata": {},
   "outputs": [],
   "source": [
    "import pandas as pd\n",
    "from transformers import AutoTokenizer, AutoModelForSequenceClassification\n",
    "import torch\n",
    "from datasets import Dataset,DatasetDict\n",
    "\n",
    "device = torch.device(\"cuda\") if torch.cuda.is_available() else torch.device(\"cpu\")\n"
   ]
  },
  {
   "cell_type": "code",
   "execution_count": null,
   "metadata": {},
   "outputs": [],
   "source": [
    "#loading dataset\n",
    "tweets = pd.read_csv('../data/MMHS150K/MMHS150K_with_img_text.csv')\n",
    "data = tweets[['tweet_text_clean', 'binary_hate', 'split']]\n",
    "data = data.rename(columns={'tweet_text_clean': 'text', 'binary_hate': 'labels', 'split': 'split'})\n",
    "data.head()"
   ]
  },
  {
   "cell_type": "code",
   "execution_count": null,
   "metadata": {},
   "outputs": [],
   "source": [
    "# Convert the pandas DataFrames to Hugging Face Datasets\n",
    "train_dataset = Dataset.from_pandas(data[data['split'] == 'train'])\n",
    "test_dataset = Dataset.from_pandas(data[data['split'] == 'test'])\n",
    "val_dataset = Dataset.from_pandas(data[data['split'] == 'val'])\n",
    "\n",
    "# Create a DatasetDict\n",
    "dataset_dict = DatasetDict({\n",
    "    'train': train_dataset,\n",
    "    'test': test_dataset,\n",
    "    'validation': val_dataset\n",
    "})"
   ]
  },
  {
   "cell_type": "code",
   "execution_count": null,
   "metadata": {},
   "outputs": [],
   "source": [
    "print (dataset_dict)"
   ]
  },
  {
   "cell_type": "code",
   "execution_count": null,
   "metadata": {},
   "outputs": [],
   "source": [
    "#load model and tokenizer\n",
    "def load_pretrained(model_name):\n",
    "  tokenizer = AutoTokenizer.from_pretrained(model_name)\n",
    "  model = AutoModelForSequenceClassification.from_pretrained(model_name)\n",
    "\n",
    "  if torch.cuda.is_available():\n",
    "    model = model.to(device)\n",
    "  return tokenizer, model\n",
    "\n",
    "#load bert\n",
    "tokenizer, model = load_pretrained('bert-base-cased')"
   ]
  },
  {
   "cell_type": "code",
   "execution_count": null,
   "metadata": {},
   "outputs": [],
   "source": [
    "def tokenize_function(examples):\n",
    "    return tokenizer(examples[\"text\"], padding=\"max_length\", truncation=True)\n",
    "\n",
    "tokenized_data = dataset_dict.map(tokenize_function, batched=True)"
   ]
  },
  {
   "cell_type": "code",
   "execution_count": null,
   "metadata": {},
   "outputs": [],
   "source": [
    "print(tokenized_data)"
   ]
  },
  {
   "cell_type": "code",
   "execution_count": null,
   "metadata": {},
   "outputs": [],
   "source": [
    "print(tokenized_data[\"train\"][0][\"text\"])\n",
    "print(tokenized_data[\"train\"][0][\"labels\"])\n",
    "print(tokenized_data[\"train\"][0][\"input_ids\"])\n",
    "print(tokenized_data[\"train\"][0][\"attention_mask\"])"
   ]
  },
  {
   "cell_type": "code",
   "execution_count": null,
   "metadata": {},
   "outputs": [],
   "source": [
    "# Remove the text column because the model does not accept raw text as an input\n",
    "tokenized_data = tokenized_data.remove_columns([\"text\", \"__index_level_0__\", \"split\"])\n",
    "print(tokenized_data)\n",
    "print(type(tokenized_data), type(tokenized_data[\"train\"][\"labels\"]))"
   ]
  },
  {
   "cell_type": "code",
   "execution_count": null,
   "metadata": {},
   "outputs": [],
   "source": [
    "# Set the format of the dataset to return PyTorch tensors instead of lists\n",
    "tokenized_data.set_format(\"torch\")\n",
    "print(tokenized_data)\n",
    "print(type(tokenized_data), type(tokenized_data[\"train\"][\"labels\"]))"
   ]
  },
  {
   "cell_type": "code",
   "execution_count": null,
   "metadata": {},
   "outputs": [],
   "source": [
    "# create a DataLoader for your training and test datasets so you can iterate over batches of data:\n",
    "from torch.utils.data import DataLoader\n",
    "\n",
    "train_dataloader = DataLoader(tokenized_data[\"train\"], shuffle=True, batch_size=8)\n",
    "eval_dataloader = DataLoader(tokenized_data[\"test\"], batch_size=8)"
   ]
  },
  {
   "cell_type": "code",
   "execution_count": null,
   "metadata": {},
   "outputs": [],
   "source": [
    "from torch.optim import AdamW\n",
    "\n",
    "optimizer = AdamW(model.parameters(), lr=5e-5)"
   ]
  },
  {
   "cell_type": "code",
   "execution_count": null,
   "metadata": {},
   "outputs": [],
   "source": [
    "from transformers import get_scheduler\n",
    "\n",
    "num_epochs = 2\n",
    "num_training_steps = num_epochs * len(train_dataloader)\n",
    "# feel free to experiment with different num_warmup_steps\n",
    "lr_scheduler = get_scheduler(\n",
    "    name=\"linear\", optimizer=optimizer, num_warmup_steps=1, num_training_steps=num_training_steps\n",
    ")"
   ]
  },
  {
   "cell_type": "code",
   "execution_count": null,
   "metadata": {},
   "outputs": [],
   "source": [
    "# use the tqdm library to add a progress bar over the number of training steps\n",
    "from tqdm.auto import tqdm\n",
    "\n",
    "progress_bar = tqdm(range(num_training_steps))\n",
    "\n",
    "# put the model in train mode\n",
    "model.train()\n",
    "\n",
    "# iterate over epochs\n",
    "for epoch in range(num_epochs):\n",
    "    # iterate over batches in training set\n",
    "    for batch in train_dataloader:\n",
    "        batch = {k: v.to(device) for k, v in batch.items()}\n",
    "        # **kwargs is a common idiom to allow an arbitrary number of arguments to functions\n",
    "        # The **kwargs will give you all keyword arguments as a dictionary\n",
    "        # https://stackoverflow.com/questions/36901/what-does-double-star-asterisk-and-star-asterisk-do-for-parameters\n",
    "        #\n",
    "\n",
    "        outputs = model(**batch)\n",
    "        #Note that Transformers models all have a default task-relevant loss function,\n",
    "        #so you don’t need to specify one unless you want to\n",
    "\n",
    "        # get the loss form the outputs\n",
    "        # in this example, the outputs are instances of subclasses of ModelOutput\n",
    "        # https://huggingface.co/transformers/v4.3.0/main_classes/output.html\n",
    "        # Those are data structures containing all the information returned by\n",
    "        # the model, but that can also be used as tuples or dictionaries.\n",
    "\n",
    "        # the outputs object has a loss and logits attribute\n",
    "        # You can access each attribute as you would usually do,\n",
    "        # and if that attribute has not been returned by the model, you will get None.\n",
    "        # for instance, outputs.loss is the loss computed by the model\n",
    "\n",
    "        loss = outputs.loss\n",
    "\n",
    "        loss.backward()\n",
    "\n",
    "        optimizer.step()\n",
    "\n",
    "        lr_scheduler.step()\n",
    "\n",
    "        optimizer.zero_grad()\n",
    "\n",
    "        progress_bar.update(1)"
   ]
  },
  {
   "cell_type": "code",
   "execution_count": null,
   "metadata": {},
   "outputs": [],
   "source": [
    "import evaluate\n",
    "\n",
    "# define the metric you want to use to evaluate your model\n",
    "metric = evaluate.load(\"accuracy\")\n",
    "progress_bar = tqdm(range(len(eval_dataloader)))\n",
    "\n",
    "# put the model in eval mode\n",
    "model.eval()\n",
    "# iterate over batches of evaluation dataset\n",
    "for batch in eval_dataloader:\n",
    "    batch = {k: v.to(device) for k, v in batch.items()}\n",
    "    with torch.no_grad():\n",
    "        # pass the batches to the model and get the outputs\n",
    "        outputs = model(**batch)\n",
    "\n",
    "    # get the logits from the outputs\n",
    "    logits = outputs.logits\n",
    "\n",
    "    # use argmax to get the predicted class\n",
    "    predictions = torch.argmax(logits, dim=-1)\n",
    "\n",
    "    # metric.add_batch() adds a batch of predictions and references\n",
    "    # Metric.add_batch() by passing it your model predictions, and the references\n",
    "    # the model predictions should be evaluated against\n",
    "    metric.add_batch(predictions=predictions, references=batch[\"labels\"])\n",
    "    progress_bar.update(1)\n",
    "# calculate a metric by  calling metric.compute()\n",
    "metric.compute()\n",
    "\n"
   ]
  }
 ],
 "metadata": {
  "kernelspec": {
   "display_name": "EE559",
   "language": "python",
   "name": "python3"
  },
  "language_info": {
   "codemirror_mode": {
    "name": "ipython",
    "version": 3
   },
   "file_extension": ".py",
   "mimetype": "text/x-python",
   "name": "python",
   "nbconvert_exporter": "python",
   "pygments_lexer": "ipython3",
   "version": "3.12.2"
  }
 },
 "nbformat": 4,
 "nbformat_minor": 2
}
