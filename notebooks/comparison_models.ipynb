{
 "cells": [
  {
   "cell_type": "markdown",
   "metadata": {},
   "source": [
    "## Simple scripts to process the resutls from the lava model"
   ]
  },
  {
   "cell_type": "code",
   "execution_count": null,
   "metadata": {},
   "outputs": [],
   "source": [
    "%load_ext autoreload\n",
    "%autoreload 2\n",
    "%reload_ext autoreload\n",
    "\n",
    "from src.dataset import CustomDataset\n",
    "from src.utils import ROOT_DIR\n",
    "\n",
    "import os\n",
    "from sklearn.metrics import confusion_matrix,ConfusionMatrixDisplay\n",
    "from sklearn.metrics import accuracy_score\n",
    "import matplotlib.pyplot as plt\n",
    "import numpy as np\n",
    "\n",
    "from torchvision import transforms\n",
    "import json\n"
   ]
  },
  {
   "cell_type": "code",
   "execution_count": null,
   "metadata": {},
   "outputs": [],
   "source": [
    "def convert_label2id(res_dict):\n",
    "    \"\"\"Simple method to convert the label from string to int\"\"\"\n",
    "    label2id={'not hateful':0,'hateful':1}\n",
    "    for key, val in res_dict.items():\n",
    "        res_dict[key]=label2id[val]\n",
    "    return res_dict\n",
    "\n",
    "def convert_id2label(res_dict):\n",
    "    \"\"\"Simple method to convert the label from int to string\"\"\"\n",
    "    id2label={0:'not hateful',1:'hateful'}\n",
    "    for key, val in res_dict.items():\n",
    "        res_dict[key]=id2label[val]\n",
    "    return res_dict\n",
    "\n",
    "def find_label(res_dict, dataset):\n",
    "    \"\"\"simple method to align the label with the prediction \"\"\"\n",
    "    y_pred=[val for key, val in res_dict.items()]\n",
    "    y_label=[dataset.get_data_from_index(int(key))['binary_hate'].values[0] for key, val in res_dict.items()]\n",
    "    return y_pred,y_label\n",
    "\n",
    "def compute_confusion_matrix(y_pred, y_label):\n",
    "    tn, fp, fn, tp = confusion_matrix(y_label, y_pred).ravel()\n",
    "    return tn, fp, fn, tp\n",
    "\n",
    "def compute_accuracy(y_pred, y_label):\n",
    "    return accuracy_score(y_label, y_pred, normalize=True)\n",
    "\n",
    "def plot_confusion_matrix(model_name:str, y_pred, y_label):\n",
    "    disp=ConfusionMatrixDisplay.from_predictions(y_true=y_label,\n",
    "                                                y_pred=y_pred,\n",
    "                                                normalize='all',\n",
    "                                                display_labels=['not hateful','hateful']) \n",
    "    plt.show()\n",
    "\n",
    "def get_Lava_results(path_results, model_name, test_data):\n",
    "    with open(path_results,'r') as f:\n",
    "        lava_prediction=json.load(f)\n",
    "    lava_prediction=convert_label2id(lava_prediction)\n",
    "    lava_pred, lava_label=find_label(lava_prediction, test_data)\n",
    "    print(f'Accuracy_{model_name}:', \"{:.3f}\".format(compute_accuracy(lava_pred, lava_label)))\n",
    "    plot_confusion_matrix('Lava image only',lava_pred,lava_label)"
   ]
  },
  {
   "cell_type": "code",
   "execution_count": null,
   "metadata": {},
   "outputs": [],
   "source": [
    "transform = transforms.Compose([transforms.Resize((299, 299)), transforms.ToTensor()])\n",
    "# load the data\n",
    "test_data = CustomDataset(\n",
    "    csv_file=os.path.join(ROOT_DIR, \"data\", \"MMHS150K\", \"MMHS150K_text_in_image.csv\"),\n",
    "    img_dir=os.path.join(ROOT_DIR, \"data\", \"MMHS150K\", \"img_resized/\"),\n",
    "    split=\"test\",\n",
    "    transform=transform,\n",
    ")"
   ]
  },
  {
   "cell_type": "markdown",
   "metadata": {},
   "source": [
    "# Lava model image only"
   ]
  },
  {
   "cell_type": "code",
   "execution_count": null,
   "metadata": {},
   "outputs": [],
   "source": [
    "path_lava_image_prediction=os.path.join(ROOT_DIR,'data', 'results', 'Lava0S_prediction_on_test_final.json')\n",
    "get_Lava_results(path_lava_image_prediction, 'Llava Image only', test_data)"
   ]
  },
  {
   "cell_type": "markdown",
   "metadata": {},
   "source": [
    "# Lava model image+tweet text"
   ]
  },
  {
   "cell_type": "code",
   "execution_count": null,
   "metadata": {},
   "outputs": [],
   "source": [
    "path_lava_image_tweet_prediction=os.path.join(ROOT_DIR,'data', 'results', 'Lava0S_tweet_prediction_on_test_final.json')\n",
    "get_Lava_results(path_lava_image_tweet_prediction, 'Llava Image +Tweet', test_data)"
   ]
  },
  {
   "cell_type": "markdown",
   "metadata": {},
   "source": [
    "## Llava image + tweet text informed image"
   ]
  },
  {
   "cell_type": "code",
   "execution_count": null,
   "metadata": {},
   "outputs": [],
   "source": [
    "path_lava_image_tweet_informed_prediction=os.path.join(ROOT_DIR,'data', 'results', 'Lava0S_tweet_informed_prediction_on_test_final.json')\n",
    "get_Lava_results(path_lava_image_tweet_informed_prediction, 'Llava Image+tweet with informed prompt', test_data)"
   ]
  },
  {
   "cell_type": "markdown",
   "metadata": {},
   "source": [
    "## Llava image + tweet text informed image 2"
   ]
  },
  {
   "cell_type": "code",
   "execution_count": null,
   "metadata": {},
   "outputs": [],
   "source": [
    "path_lava_image_tweet_informed_2_prediction=os.path.join(ROOT_DIR,'data', 'results', 'Lava0S_tweet_informed_2_prediction_on_test_final.json')\n",
    "get_Lava_results(path_lava_image_tweet_informed_2_prediction, 'Llava Image+tweet with informed prompt 2', test_data)"
   ]
  },
  {
   "cell_type": "markdown",
   "metadata": {},
   "source": [
    "## Llava  tweet text only"
   ]
  },
  {
   "cell_type": "code",
   "execution_count": null,
   "metadata": {},
   "outputs": [],
   "source": [
    "path_lava_tweet_only_prediction=os.path.join(ROOT_DIR,'data', 'results', 'Lava0S_tweet_only_prediction_on_test_final.json')\n",
    "get_Lava_results(path_lava_tweet_only_prediction, 'Llava tweet only', test_data)"
   ]
  }
 ],
 "metadata": {
  "kernelspec": {
   "display_name": "Python 3 (ipykernel)",
   "language": "python",
   "name": "python3"
  },
  "language_info": {
   "codemirror_mode": {
    "name": "ipython",
    "version": 3
   },
   "file_extension": ".py",
   "mimetype": "text/x-python",
   "name": "python",
   "nbconvert_exporter": "python",
   "pygments_lexer": "ipython3",
   "version": "3.12.2"
  }
 },
 "nbformat": 4,
 "nbformat_minor": 4
}
