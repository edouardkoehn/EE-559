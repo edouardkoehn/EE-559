{
 "cells": [
  {
   "cell_type": "markdown",
   "metadata": {},
   "source": [
    "# Custom Dataset\n",
    "\n",
    "This notebook shows how to create a custom dataset in PyTorch.\n",
    "We give to the dataset a CSV file with the following columns:\n",
    "- `index`: The unique identifier for each tweet.\n",
    "- `tweet_text_clean`: The cleaned version of the tweet text. (no URLS and mentions)\n",
    "- `img_text`: The text extracted from the image, if available. (otherwise NaN)\n",
    "- `binary_hate`: A binary label indicating whether the tweet contains hate speech or not. (threshold at 0.5)\n",
    "- `split`: The split of the dataset (train, test, or val).\n",
    "And the folder containing the images (each should be named as `index.jpg`). Finally, one can add a transformation to the images.\n",
    "\n",
    "The new object can then be used in a DataLoader to train a model."
   ]
  },
  {
   "cell_type": "code",
   "execution_count": null,
   "metadata": {},
   "outputs": [],
   "source": [
    "import torch\n",
    "import numpy as np\n",
    "import pandas as pd\n",
    "from torch.utils.data import Dataset, DataLoader\n",
    "from PIL import Image\n",
    "\n",
    "from torchvision import transforms\n",
    "\n",
    "import matplotlib.pyplot as plt"
   ]
  },
  {
   "cell_type": "code",
   "execution_count": null,
   "metadata": {},
   "outputs": [],
   "source": [
    "DATASET_PATH = 'MMHS150K/MMHS150K_text_in_image.csv'\n",
    "\n",
    "dataset = pd.read_csv(DATASET_PATH)"
   ]
  },
  {
   "cell_type": "code",
   "execution_count": null,
   "metadata": {},
   "outputs": [],
   "source": [
    "class CustomDataset(Dataset):\n",
    "    def __init__(self, csv_file, img_dir, split, transform=None):\n",
    "        \"\"\" __init__ function for CustomDataset\n",
    "\n",
    "        Args:\n",
    "            csv_file (str): Path to the csv file containing the dataset information\n",
    "            img_dir (str): Path to the directory containing the images\n",
    "            split (str): 'train' or 'test' or 'val'\n",
    "            transform (callable, optional): Optional transform to be applied on a sample\n",
    "        \"\"\"\n",
    "        self.dataset = pd.read_csv(csv_file)\n",
    "        self.img_dir = img_dir\n",
    "        self.split = split\n",
    "        self.transform = transform\n",
    "        \n",
    "        # Number of images in the dataset\n",
    "        self.dataset_len = len(self.dataset)\n",
    "        \n",
    "    def __len__(self):\n",
    "        return self.dataset_len\n",
    "    \n",
    "    def __getitem__(self, idx):\n",
    "        if torch.is_tensor(idx):\n",
    "            idx = idx.tolist()\n",
    "            \n",
    "        image_index = self.dataset['index'].values[idx]\n",
    "        \n",
    "        img_path = self.img_dir + str(image_index) + '.jpg'\n",
    "        image = Image.open(img_path)\n",
    "        \n",
    "        if self.transform:\n",
    "            image = self.transform(image)\n",
    "        \n",
    "        label = self.dataset[self.dataset['index'] == image_index]['binary_hate'].values[0]\n",
    "        tweet_text = self.dataset[self.dataset['index'] == image_index]['tweet_text_clean'].values[0]\n",
    "        img_text = self.dataset[self.dataset['index'] == image_index]['img_text'].values[0]\n",
    "        \n",
    "        sample = {'image': image, 'label': label, 'tweet_text': tweet_text, 'img_text': img_text}\n",
    "        \n",
    "        return sample"
   ]
  },
  {
   "cell_type": "markdown",
   "metadata": {},
   "source": [
    "# Example\n",
    "\n",
    "Use the CSV created from `reformat_data.ipynb` and the images from the `MMHS150K/img_resized/` folder to create a custom dataset.\n",
    "Then just use the DataLoader to plot some images, could be instead used to train a model."
   ]
  },
  {
   "cell_type": "code",
   "execution_count": null,
   "metadata": {},
   "outputs": [],
   "source": [
    "# Create a transform for the images\n",
    "transform = transforms.Compose([\n",
    "    transforms.Resize((224, 224)),\n",
    "    transforms.RandomRotation(20),\n",
    "    transforms.ToTensor()\n",
    "])\n",
    "\n",
    "# Create a CustomDataset object\n",
    "dataset = CustomDataset(csv_file=DATASET_PATH, img_dir='MMHS150K/img_resized/', split='train', transform=transform)\n",
    "\n",
    "# Create a DataLoader\n",
    "dataloader = DataLoader(dataset, batch_size=4, shuffle=True)\n",
    "\n",
    "# Plot the first 4 images\n",
    "fig, axs = plt.subplots(4, 1, figsize=(40, 10))\n",
    "for i, data in enumerate(dataloader):\n",
    "    image = data['image']\n",
    "    label = data['label']\n",
    "    tweet_text = data['tweet_text']\n",
    "    img_text = data['img_text']\n",
    "    \n",
    "    axs[i].imshow(image[0].permute(1, 2, 0))\n",
    "    axs[i].set_title(f'Label: {\"Hate\" if label[0] == 1 else \"No hate\"}\\nTweet Text: {tweet_text[0]}\\nImage Text: {img_text[0]}')\n",
    "    axs[i].axis('off')\n",
    "    \n",
    "    if i == 3:\n",
    "        break\n",
    "    \n",
    "plt.tight_layout()\n",
    "plt.show()"
   ]
  },
  {
   "cell_type": "code",
   "execution_count": null,
   "metadata": {},
   "outputs": [],
   "source": []
  }
 ],
 "metadata": {
  "kernelspec": {
   "display_name": "dl",
   "language": "python",
   "name": "python3"
  },
  "language_info": {
   "codemirror_mode": {
    "name": "ipython",
    "version": 3
   },
   "file_extension": ".py",
   "mimetype": "text/x-python",
   "name": "python",
   "nbconvert_exporter": "python",
   "pygments_lexer": "ipython3",
   "version": "3.10.13"
  }
 },
 "nbformat": 4,
 "nbformat_minor": 2
}
